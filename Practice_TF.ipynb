{
  "nbformat": 4,
  "nbformat_minor": 0,
  "metadata": {
    "colab": {
      "name": "Practice TF.ipynb",
      "version": "0.3.2",
      "provenance": [],
      "collapsed_sections": [],
      "include_colab_link": true
    },
    "kernelspec": {
      "name": "python3",
      "display_name": "Python 3"
    },
    "accelerator": "GPU"
  },
  "cells": [
    {
      "cell_type": "markdown",
      "metadata": {
        "id": "view-in-github",
        "colab_type": "text"
      },
      "source": [
        "<a href=\"https://colab.research.google.com/github/OutWrest/ColabKerasNNProjects/blob/master/Practice_TF.ipynb\" target=\"_parent\"><img src=\"https://colab.research.google.com/assets/colab-badge.svg\" alt=\"Open In Colab\"/></a>"
      ]
    },
    {
      "metadata": {
        "id": "bJG2JOSFMdB7",
        "colab_type": "text"
      },
      "cell_type": "markdown",
      "source": [
        "Imports TF and checks to see if it can find a GPU, (from https://colab.research.google.com/notebooks/gpu.ipynb#scrollTo=3IEVK-KFxi5Z)"
      ]
    },
    {
      "metadata": {
        "id": "LhXc3IXzLqKs",
        "colab_type": "code",
        "outputId": "efd582e9-d204-43cd-8efb-eec244ce72d8",
        "colab": {
          "base_uri": "https://localhost:8080/",
          "height": 34
        }
      },
      "cell_type": "code",
      "source": [
        "import tensorflow as tf\n",
        "device_name = tf.test.gpu_device_name()\n",
        "if device_name != '/device:GPU:0':\n",
        "  raise SystemError('GPU device not found')\n",
        "print('Found GPU at: {}'.format(device_name))"
      ],
      "execution_count": 0,
      "outputs": [
        {
          "output_type": "stream",
          "text": [
            "Found GPU at: /device:GPU:0\n"
          ],
          "name": "stdout"
        }
      ]
    },
    {
      "metadata": {
        "id": "K7CUZdAIMooC",
        "colab_type": "text"
      },
      "cell_type": "markdown",
      "source": [
        "List of colors that will only be used:  \n",
        "red   \n",
        "orange   \n",
        "yellow  \n",
        "green   \n",
        "cyan  \n",
        "blue  \n",
        "violet   \n",
        "magenta  \n",
        "black  \n",
        "white  \n",
        "  \n",
        "The NN would identify which RGB value correspons with the text color \n",
        "\n",
        "Input array: [R,G,B]  \n",
        "Output array: [R,O,Y,G,C,B,V,M,B,W]\n",
        "  \n",
        "With either 1 or 0 for the output and 1-255 for input which will encoded to 0-1 for simplicity  \n",
        "The sigmoid function will able to give a probability of the output depending on the input\n",
        "  \n"
      ]
    },
    {
      "metadata": {
        "id": "hgwYOXgMWVEr",
        "colab_type": "code",
        "outputId": "1725031f-5585-4eb7-8f7a-f5a6d8a596bb",
        "colab": {
          "base_uri": "https://localhost:8080/",
          "height": 136
        }
      },
      "cell_type": "code",
      "source": [
        "import colorsys\n",
        "import random\n",
        "\n",
        "#Change the amount data that will be created\n",
        "DATA_SET_AMOUNT = 100000\n",
        "\n",
        "import numpy as np\n",
        "\n",
        "def randRGB(AMOUNT):\n",
        "  random_set = []\n",
        "  for x in range(AMOUNT):\n",
        "    random_data = [random.randint(0, 255),random.randint(0, 255),random.randint(0, 255)]\n",
        "    random_set.append(random_data)\n",
        "  return random_set\n",
        "\n",
        "random_set = randRGB(DATA_SET_AMOUNT)\n",
        "data_set_rgb = np.array(random_set)\n",
        "print(data_set_rgb)\n",
        "\n",
        "hsv_set = []\n",
        "def RGB_to_HSV(rgb_set):\n",
        "  for rgb in rgb_set:\n",
        "    #print(rgb)\n",
        "    #print(colorsys.rgb_to_hsv(rgb[0],rgb[1],rgb[2]))\n",
        "    hsv = colorsys.rgb_to_hsv(rgb[0],rgb[1],rgb[2])\n",
        "    #normalize h on 0-360 range\n",
        "    hsv_set.append([round(hsv[0]*360),round(hsv[1]*100),round((hsv[2]*100)/255)])\n",
        "  return hsv_set\n",
        "\n",
        "hsv_set = RGB_to_HSV(data_set_rgb)\n",
        "data_set_hsv = np.array(hsv_set)\n",
        "\n",
        "#print(data_set_hsv)"
      ],
      "execution_count": 76,
      "outputs": [
        {
          "output_type": "stream",
          "text": [
            "[[ 33 229 123]\n",
            " [124 235 254]\n",
            " [  0 200 235]\n",
            " ...\n",
            " [237 155  99]\n",
            " [ 78 162  79]\n",
            " [ 44  85  27]]\n"
          ],
          "name": "stdout"
        }
      ]
    },
    {
      "metadata": {
        "id": "kaqlTPXQkZJY",
        "colab_type": "text"
      },
      "cell_type": "markdown",
      "source": [
        "Now to create a y list that knows the colors "
      ]
    },
    {
      "metadata": {
        "colab_type": "code",
        "id": "A_ntSJ6QovMj",
        "cellView": "both",
        "outputId": "a1e20e39-2f25-48e5-bf50-21c07cd9a3f0",
        "colab": {
          "base_uri": "https://localhost:8080/",
          "height": 136
        }
      },
      "cell_type": "code",
      "source": [
        "#color index:\n",
        "red = 0\n",
        "orange = 1\n",
        "yellow = 2\n",
        "green = 3\n",
        "cyan = 4\n",
        "blue = 5\n",
        "violet = 6\n",
        "magenta = 7\n",
        "black = 8\n",
        "white = 9\n",
        "\n",
        "#a= colorsys.rgb_to_hsv(255,255,200)\n",
        "#print([round(a[0]*360),round(a[1]*100),round((a[2]*100)/255)]) \n",
        "def colorsHSV_to_COLOR(hsv_set):\n",
        "  color_set = []\n",
        "  for color_hsv in hsv_set:\n",
        "    _color = [0,0,0,0,0,0,0,0,0,0]\n",
        "    hue = color_hsv[0]\n",
        "    sat = color_hsv[1]\n",
        "    val = color_hsv[2]\n",
        "\n",
        "    #black\n",
        "    if(val <= 15):\n",
        "      _color[black] = 1\n",
        "    #white\n",
        "    elif(sat <= 15):\n",
        "      _color[white] = 1\n",
        "\n",
        "    #red\n",
        "    elif(hue >= 345 or hue < 20):\n",
        "      _color[red] = 1\n",
        "    #orange\n",
        "    elif(hue >= 20 and hue < 45):\n",
        "      _color[orange] = 1\n",
        "    #yellow\n",
        "    elif(hue >= 45 and hue < 75):\n",
        "      _color[yellow] = 1\n",
        "    #green\n",
        "    elif(hue >= 75 and hue < 130):\n",
        "      _color[green] = 1\n",
        "    #cyan\n",
        "    elif(hue >= 130 and hue < 195):\n",
        "      _color[cyan] = 1\n",
        "    #blue\n",
        "    elif(hue >= 195 and hue < 240):\n",
        "      _color[blue] = 1\n",
        "    #violet\n",
        "    elif(hue >= 250 and hue < 285):\n",
        "      _color[violet] = 1\n",
        "    #magenta\n",
        "    elif(hue >= 285 and hue < 345):\n",
        "      _color[magenta] = 1\n",
        "\n",
        "    color_set.append(_color)\n",
        "  return color_set\n",
        "color_set = colorsHSV_to_COLOR(data_set_hsv)\n",
        "data_color_names = np.array(color_set)\n",
        "\n",
        "print(data_color_names)"
      ],
      "execution_count": 77,
      "outputs": [
        {
          "output_type": "stream",
          "text": [
            "[[0 0 0 ... 0 0 0]\n",
            " [0 0 0 ... 0 0 0]\n",
            " [0 0 0 ... 0 0 0]\n",
            " ...\n",
            " [0 1 0 ... 0 0 0]\n",
            " [0 0 0 ... 0 0 0]\n",
            " [0 0 0 ... 0 0 0]]\n"
          ],
          "name": "stdout"
        }
      ]
    },
    {
      "metadata": {
        "id": "BmJPCna2CquZ",
        "colab_type": "text"
      },
      "cell_type": "markdown",
      "source": [
        "Change x-list to 0-1 for simplicity"
      ]
    },
    {
      "metadata": {
        "id": "xyCL2OpMCmO4",
        "colab_type": "code",
        "outputId": "d9feddee-6ad5-488f-fa3b-e1d90b7c95e5",
        "colab": {
          "base_uri": "https://localhost:8080/",
          "height": 51
        }
      },
      "cell_type": "code",
      "source": [
        "def standardize(data_rgb):\n",
        "  list_a = []\n",
        "  for x in data_rgb:\n",
        "    list__ = []\n",
        "    for y in x:\n",
        "      list__.append(y/255)\n",
        "    list_a.append(list__)\n",
        "  return list_a\n",
        "list_a = standardize(data_set_rgb)\n",
        "list_x = np.array(list_a)\n",
        "print(len(list_x))\n",
        "print(len(data_color_names))"
      ],
      "execution_count": 78,
      "outputs": [
        {
          "output_type": "stream",
          "text": [
            "100000\n",
            "100000\n"
          ],
          "name": "stdout"
        }
      ]
    },
    {
      "metadata": {
        "id": "QDng0uq799hx",
        "colab_type": "text"
      },
      "cell_type": "markdown",
      "source": [
        "Actual NN"
      ]
    },
    {
      "metadata": {
        "id": "o60YT7df-C23",
        "colab_type": "code",
        "outputId": "72abd05f-c477-4815-ed65-f1fcdf177971",
        "colab": {
          "base_uri": "https://localhost:8080/",
          "height": 343
        }
      },
      "cell_type": "code",
      "source": [
        "from keras.models import Sequential\n",
        "from keras.layers import Dense, Activation\n",
        "model = Sequential()\n",
        "model.add(Dense(64, input_shape=(3,), activation=\"tanh\"))\n",
        "model.add(Dense(64, activation=\"relu\"))\n",
        "#model.add(Dense(64, activation=\"tanh\"))\n",
        "model.add(Dense(10, activation=\"softmax\"))\n",
        "model.compile(loss=\"categorical_crossentropy\", optimizer=\"adam\", metrics=[\"accuracy\"])\n",
        "model.fit(x=list_x, y=data_color_names, epochs=5, verbose=1)"
      ],
      "execution_count": 0,
      "outputs": [
        {
          "output_type": "stream",
          "text": [
            "WARNING:tensorflow:From /usr/local/lib/python3.6/dist-packages/tensorflow/python/framework/op_def_library.py:263: colocate_with (from tensorflow.python.framework.ops) is deprecated and will be removed in a future version.\n",
            "Instructions for updating:\n",
            "Colocations handled automatically by placer.\n",
            "WARNING:tensorflow:From /usr/local/lib/python3.6/dist-packages/tensorflow/python/ops/math_ops.py:3066: to_int32 (from tensorflow.python.ops.math_ops) is deprecated and will be removed in a future version.\n",
            "Instructions for updating:\n",
            "Use tf.cast instead.\n"
          ],
          "name": "stdout"
        },
        {
          "output_type": "stream",
          "text": [
            "Using TensorFlow backend.\n"
          ],
          "name": "stderr"
        },
        {
          "output_type": "stream",
          "text": [
            "Epoch 1/5\n",
            "100000/100000 [==============================] - 10s 102us/step - loss: 0.2488 - acc: 0.9132\n",
            "Epoch 2/5\n",
            "100000/100000 [==============================] - 10s 97us/step - loss: 0.0723 - acc: 0.9522\n",
            "Epoch 3/5\n",
            "100000/100000 [==============================] - 10s 97us/step - loss: 0.0537 - acc: 0.9554\n",
            "Epoch 4/5\n",
            "100000/100000 [==============================] - 10s 97us/step - loss: 0.0456 - acc: 0.9572\n",
            "Epoch 5/5\n",
            "100000/100000 [==============================] - 10s 96us/step - loss: 0.0404 - acc: 0.9588\n"
          ],
          "name": "stdout"
        },
        {
          "output_type": "execute_result",
          "data": {
            "text/plain": [
              "<keras.callbacks.History at 0x7fc05bf97b38>"
            ]
          },
          "metadata": {
            "tags": []
          },
          "execution_count": 6
        }
      ]
    },
    {
      "metadata": {
        "id": "9wbcd1hFJEs3",
        "colab_type": "code",
        "outputId": "7a48c76c-ed1e-422b-81a7-59c45d3f2082",
        "colab": {
          "base_uri": "https://localhost:8080/",
          "height": 140
        }
      },
      "cell_type": "code",
      "source": [
        "def decodeModel(index):\n",
        "  red = 0\n",
        "  orange = 1\n",
        "  yellow = 2\n",
        "  green = 3\n",
        "  cyan = 4\n",
        "  blue = 5\n",
        "  violet = 6\n",
        "  magenta = 7\n",
        "  black = 8\n",
        "  white = 9\n",
        "  if(index == red):\n",
        "    return \"red\"\n",
        "  if(index == orange):\n",
        "    return \"orange\"\n",
        "  if(index == yellow):\n",
        "    return \"yellow\"\n",
        "  if(index == green):\n",
        "    return \"green\"\n",
        "  if(index == cyan):\n",
        "    return \"cyan\"\n",
        "  if(index == blue):\n",
        "    return \"blue\"\n",
        "  if(index == violet):\n",
        "    return \"violet\"\n",
        "  if(index == magenta):\n",
        "    return \"magenta\"\n",
        "  if(index == black):\n",
        "    return \"black\"\n",
        "  if(index == white):\n",
        "    return \"white\"\n",
        "  return \"idk\"\n",
        "def encodeModel(array):\n",
        "  new_array = []\n",
        "  for x in array:\n",
        "    new_array.append(x/255)\n",
        "  return new_array\n",
        "\n",
        "import matplotlib.pyplot as plt\n",
        "\n",
        "def plotColor(array):\n",
        "  fig = plt.figure(figsize=(1, 1))\n",
        "  ax = fig.add_subplot(1,1,1)\n",
        "  ax.set_facecolor((array[0],array[1],array[2]))\n",
        "\n",
        "#creating test list\n",
        "random_set_test = []\n",
        "for x in range(100):\n",
        "  random_data = [random.randint(0, 255),random.randint(0, 255),random.randint(0, 255)]\n",
        "  random_set_test.append(random_data)\n",
        "\n",
        "data_set_rgb_test = np.array(random_set_test)\n",
        "\n",
        "\n",
        "\n",
        "\n",
        "#CHANGE THESE FOR YOUR OWN COLOR\n",
        "R = 106\n",
        "G = 158\n",
        "B = 156\n",
        "#NOTHING ELSE\n",
        "print(\"your color is: {}, {}, {}\".format(R, G, B))\n",
        "Guess = np.array(encodeModel([R,G,B]))\n",
        "plotColor(encodeModel([R,G,B]))\n",
        "print(\"my guess is: \" + decodeModel(np.argmax((model.predict(np.expand_dims(Guess, 0))))))"
      ],
      "execution_count": 0,
      "outputs": [
        {
          "output_type": "stream",
          "text": [
            "your color is: 106, 158, 156\n",
            "my guess is: cyan\n"
          ],
          "name": "stdout"
        },
        {
          "output_type": "display_data",
          "data": {
            "image/png": "[encoded data removed]",
            "text/plain": [
              "<Figure size 72x72 with 1 Axes>"
            ]
          },
          "metadata": {
            "tags": []
          }
        }
      ]
    },
    {
      "metadata": {
        "id": "Ib7TKxotuRGj",
        "colab_type": "text"
      },
      "cell_type": "markdown",
      "source": [
        "Testing NN by creating models to see what it is getting wrong"
      ]
    },
    {
      "metadata": {
        "id": "9TxLhjdgKGvC",
        "colab_type": "code",
        "outputId": "35f164e3-f710-40f4-8329-3c30e661cfec",
        "colab": {
          "base_uri": "https://localhost:8080/",
          "height": 123
        }
      },
      "cell_type": "code",
      "source": [
        "def randomBlack():\n",
        "  return encodeModel([random.randint(0,40),random.randint(0,40),random.randint(0,40)])\n",
        "def randomWhite():\n",
        "  return encodeModel([random.randint(245,255),random.randint(245,255),random.randint(245,255)])\n",
        "\n",
        "#plotColor(encodeModel())\n",
        "NUM_OF_TEST = 5000\n",
        "acc = 0\n",
        "num = 0\n",
        "\n",
        "wrong_array_black = []\n",
        "for x in range(NUM_OF_TEST):\n",
        "  _test = randomBlack()\n",
        "  if(decodeModel(np.argmax((model.predict(np.expand_dims(_test, 0)))))==\"black\"):\n",
        "    num += 1\n",
        "    acc = (num)/(x+1)\n",
        "  else:\n",
        "    wrong_array_black.append(_test)\n",
        "\n",
        "black_array = np.array(wrong_array_black)\n",
        "plotColor(black_array[0])\n",
        "print(acc)\n"
      ],
      "execution_count": 0,
      "outputs": [
        {
          "output_type": "stream",
          "text": [
            "0.8062\n"
          ],
          "name": "stdout"
        },
        {
          "output_type": "display_data",
          "data": {
            "image/png": "[encoded data removed]",
            "text/plain": [
              "<Figure size 72x72 with 1 Axes>"
            ]
          },
          "metadata": {
            "tags": []
          }
        }
      ]
    },
    {
      "metadata": {
        "id": "ae7HXudGzIYo",
        "colab_type": "text"
      },
      "cell_type": "markdown",
      "source": [
        "Creating more black colors to train NN with as it is getting black color wrong sometimes"
      ]
    },
    {
      "metadata": {
        "id": "bpFUsu72zONT",
        "colab_type": "code",
        "outputId": "2520457b-3665-43f6-fed0-4d67797332c4",
        "colab": {
          "base_uri": "https://localhost:8080/",
          "height": 374
        }
      },
      "cell_type": "code",
      "source": [
        "NUM_OF_TRAINING_BLACK_DATA = 10000\n",
        "\n",
        "data_black = []\n",
        "data_color = []\n",
        "for x in range(NUM_OF_TRAINING_BLACK_DATA):\n",
        "  _training = encodeModel(randomBlack())\n",
        "  data_black.append(_training)\n",
        "  data_color.append([0,0,0,0,0,0,0,0,1,0])\n",
        "\n",
        "for x in list_a:\n",
        "  data_black.append(x)\n",
        "for y in color_set:\n",
        "  data_color.append(y) \n",
        "\n",
        "\n",
        "\n",
        "\n",
        "SEED = random.randint(0,100)\n",
        "\n",
        "print(\"bef\")\n",
        "print(data_color)\n",
        "print(data_black)\n",
        "data_blacka = random.Random(SEED).sample(data_black, len(data_black))\n",
        "data_colora = random.Random(SEED).sample(data_color, len(data_color))\n",
        "print(\"aft\")\n",
        "print(data_blacka)\n",
        "print(data_colora)\n",
        "\n",
        "\n",
        "black_x = np.array(data_blacka)\n",
        "black_y = np.array(data_colora)\n",
        "#print(black_x)\n",
        "  \n",
        "#list_x = np.vstack([black,black_x])\n",
        "\n",
        "#data_color_names = np.vstack([data_color_names,black_y])\n",
        "from keras.models import Sequential\n",
        "from keras.layers import Dense, Activation\n",
        "model = Sequential()\n",
        "model.add(Dense(64, input_shape=(3,), activation=\"tanh\"))\n",
        "model.add(Dense(64, activation=\"relu\"))\n",
        "#model.add(Dense(64, activation=\"tanh\"))\n",
        "model.add(Dense(10, activation=\"softmax\"))\n",
        "model.compile(loss=\"categorical_crossentropy\", optimizer=\"Nadam\", metrics=[\"accuracy\"])\n",
        "model.fit(x=black_x, y=black_y, epochs=5, verbose=1)\n",
        "\n",
        "\n",
        "  \n",
        "  "
      ],
      "execution_count": 0,
      "outputs": [
        {
          "output_type": "stream",
          "text": [
            "IOPub data rate exceeded.\n",
            "The notebook server will temporarily stop sending output\n",
            "to the client in order to avoid crashing it.\n",
            "To change this limit, set the config variable\n",
            "`--NotebookApp.iopub_data_rate_limit`.\n",
            "\n",
            "Current values:\n",
            "NotebookApp.iopub_data_rate_limit=1000000.0 (bytes/sec)\n",
            "NotebookApp.rate_limit_window=3.0 (secs)\n",
            "\n"
          ],
          "name": "stderr"
        },
        {
          "output_type": "stream",
          "text": [
            "Epoch 1/5\n",
            "110000/110000 [==============================] - 13s 117us/step - loss: 0.1503 - acc: 0.9335\n",
            "Epoch 2/5\n",
            "110000/110000 [==============================] - 12s 107us/step - loss: 0.0501 - acc: 0.9571\n",
            "Epoch 3/5\n",
            "110000/110000 [==============================] - 12s 108us/step - loss: 0.0412 - acc: 0.9596\n",
            "Epoch 4/5\n",
            "110000/110000 [==============================] - 12s 107us/step - loss: 0.0388 - acc: 0.9601\n",
            "Epoch 5/5\n",
            "110000/110000 [==============================] - 12s 107us/step - loss: 0.0371 - acc: 0.9611\n"
          ],
          "name": "stdout"
        },
        {
          "output_type": "execute_result",
          "data": {
            "text/plain": [
              "<keras.callbacks.History at 0x7fc058744e48>"
            ]
          },
          "metadata": {
            "tags": []
          },
          "execution_count": 9
        }
      ]
    },
    {
      "metadata": {
        "id": "nRAnO4Ir-Yoz",
        "colab_type": "code",
        "colab": {}
      },
      "cell_type": "code",
      "source": [
        ""
      ],
      "execution_count": 0,
      "outputs": []
    },
    {
      "metadata": {
        "id": "jlmnQr__TY49",
        "colab_type": "code",
        "outputId": "0769597d-f321-4e3a-db1f-8e3294a1befb",
        "colab": {
          "base_uri": "https://localhost:8080/",
          "height": 51
        }
      },
      "cell_type": "code",
      "source": [
        "x=[[1,2],[2,3],[4,5]]\n",
        "y=[4,5,6]\n",
        "print(random.Random(4).sample(x, len(x)))\n",
        "print(random.Random(5).sample(y, len(y)))"
      ],
      "execution_count": 0,
      "outputs": [
        {
          "output_type": "stream",
          "text": [
            "[[1, 2], [2, 3], [4, 5]]\n",
            "[6, 5, 4]\n"
          ],
          "name": "stdout"
        }
      ]
    },
    {
      "metadata": {
        "id": "r9zXmuGfbblT",
        "colab_type": "text"
      },
      "cell_type": "markdown",
      "source": [
        "Training NN with more black color seems to have worked, creating an array with all the colors that the NN gets wrong using the starting list that we had."
      ]
    },
    {
      "metadata": {
        "id": "sNXDWA3apvIC",
        "colab_type": "code",
        "outputId": "8770b50c-0867-4f60-c075-64b5beed8573",
        "colab": {
          "base_uri": "https://localhost:8080/",
          "height": 51
        }
      },
      "cell_type": "code",
      "source": [
        "colors = []\n",
        "for clr in color_set:\n",
        "  colors.append(clr)\n",
        "  \n",
        "colors_y = np.array(colors)\n",
        "print(list_a[0], colors_y[0])\n",
        "x = 0\n",
        "num = 0\n",
        "wrong_rgb = []\n",
        "wrong_colors = []\n",
        "for rgb in list_a:\n",
        "  \n",
        "  if(np.argmax(model.predict(np.expand_dims(rgb, 0)))) == np.argmax(colors_y[x]):\n",
        "    num+=1\n",
        "    #print(num)\n",
        "  else:\n",
        "    wrong_rgb.append(rgb)\n",
        "    wrong_colors.append(colors_y[x])\n",
        "  x+=1\n",
        "\n",
        "acc = num/x \n",
        "print(acc)\n",
        "\n",
        "\n",
        "  "
      ],
      "execution_count": 79,
      "outputs": [
        {
          "output_type": "stream",
          "text": [
            "[0.12941176470588237, 0.8980392156862745, 0.4823529411764706] [0 0 0 0 1 0 0 0 0 0]\n",
            "0.12747\n"
          ],
          "name": "stdout"
        }
      ]
    },
    {
      "metadata": {
        "id": "xG_MiNY9pujz",
        "colab_type": "text"
      },
      "cell_type": "markdown",
      "source": [
        "looking at the wrong colors"
      ]
    },
    {
      "metadata": {
        "id": "A9uiXFBcsxGb",
        "colab_type": "code",
        "outputId": "47d7f543-5395-4bb1-bba3-6812ce5c1379",
        "colab": {
          "base_uri": "https://localhost:8080/",
          "height": 51
        }
      },
      "cell_type": "code",
      "source": [
        "red = 0\n",
        "orange = 1\n",
        "yellow = 2\n",
        "green = 3\n",
        "cyan = 4\n",
        "blue = 5\n",
        "violet = 6\n",
        "magenta = 7\n",
        "black = 8\n",
        "white = 9\n",
        "\n",
        "wrong_color_amount= [0,0,0,0,0,0,0,0,0,0]\n",
        "x = 0\n",
        "for color in wrong_colors:\n",
        "  colorARG = np.argmax(color)\n",
        "  \n",
        "  if(colorARG==red):\n",
        "    wrong_color_amount[colorARG]+=1\n",
        "  elif(colorARG==orange):\n",
        "    wrong_color_amount[colorARG]+=1\n",
        "  elif(colorARG==yellow):\n",
        "    wrong_color_amount[colorARG]+=1\n",
        "  elif(colorARG==green):\n",
        "    wrong_color_amount[colorARG]+=1\n",
        "  elif(colorARG==cyan):\n",
        "    wrong_color_amount[colorARG]+=1\n",
        "  elif(colorARG==blue):\n",
        "    wrong_color_amount[colorARG]+=1\n",
        "  elif(colorARG==violet):\n",
        "    wrong_color_amount[colorARG]+=1\n",
        "  elif(colorARG==magenta):\n",
        "    wrong_color_amount[colorARG]+=1\n",
        "  elif(colorARG==black):\n",
        "    wrong_color_amount[colorARG]+=1\n",
        "  elif(colorARG==white):\n",
        "    wrong_color_amount[colorARG]+=1\n",
        "  x+=1\n",
        "  \n",
        "print(wrong_color_amount)\n",
        "print(\"I'm getting \"+decodeModel(np.argmax(wrong_color_amount)) + \" wrong\")"
      ],
      "execution_count": 74,
      "outputs": [
        {
          "output_type": "stream",
          "text": [
            "[10987, 6603, 8009, 12004, 14853, 11480, 8551, 12159, 207, 2383]\n",
            "I'm getting cyan wrong\n"
          ],
          "name": "stdout"
        }
      ]
    },
    {
      "metadata": {
        "id": "s49SWJlMJnPa",
        "colab_type": "text"
      },
      "cell_type": "markdown",
      "source": [
        "Checking dataset to see how much of each color is being used to train (seeing if it is geting a baised training input)"
      ]
    },
    {
      "metadata": {
        "id": "pbKiL1OYIX0f",
        "colab_type": "code",
        "outputId": "c3d7b2f8-e9d7-4971-c70c-89d727fb2b36",
        "colab": {
          "base_uri": "https://localhost:8080/",
          "height": 34
        }
      },
      "cell_type": "code",
      "source": [
        "colors = [0,0,0,0,0,0,0,0,0,0]\n",
        "for color in color_set:\n",
        "  colorARG = np.argmax(color)\n",
        "  \n",
        "  if(colorARG==red):\n",
        "    colors[colorARG]+=1\n",
        "  elif(colorARG==orange):\n",
        "    colors[colorARG]+=1\n",
        "  elif(colorARG==yellow):\n",
        "    colors[colorARG]+=1\n",
        "  elif(colorARG==green):\n",
        "    colors[colorARG]+=1\n",
        "  elif(colorARG==cyan):\n",
        "    colors[colorARG]+=1\n",
        "  elif(colorARG==blue):\n",
        "    colors[colorARG]+=1\n",
        "  elif(colorARG==violet):\n",
        "    colors[colorARG]+=1\n",
        "  elif(colorARG==magenta):\n",
        "    colors[colorARG]+=1\n",
        "  elif(colorARG==black):\n",
        "    colors[colorARG]+=1\n",
        "  elif(colorARG==white):\n",
        "    colors[colorARG]+=1\n",
        "    \n",
        "print(colors)"
      ],
      "execution_count": 0,
      "outputs": [
        {
          "output_type": "stream",
          "text": [
            "[12090, 6603, 8037, 14867, 17757, 12214, 9505, 16199, 343, 2385]\n"
          ],
          "name": "stdout"
        }
      ]
    },
    {
      "metadata": {
        "id": "bw9wOfKcLrCy",
        "colab_type": "text"
      },
      "cell_type": "markdown",
      "source": [
        "Create new data for a balanced dataset"
      ]
    },
    {
      "metadata": {
        "id": "y1ut0EaILo8F",
        "colab_type": "code",
        "colab": {}
      },
      "cell_type": "code",
      "source": [
        "def hsv_to_rgb(hsv_set):\n",
        "  rgb_set = []\n",
        "  for hsv in hsv_set:\n",
        "    h = hsv[0]\n",
        "    s = hsv[1]\n",
        "    v = hsv[2]\n",
        "    rgb_set.append(colorsys.hsv_to_rgb(h,s,v))\n",
        "  return rgb_set\n",
        "\n",
        "def rgbN_to_hsv(rgb_set):\n",
        "  hsv_set = []\n",
        "  for rgb in rgb_set:\n",
        "    r = rgb[0]\n",
        "    g = rgb[1]\n",
        "    b = rgb[2]\n",
        "    hsv_set.append(colorsys.rgb_to_hsv(r,g,b))\n",
        "  return hsv_set\n",
        "\n",
        "#black\n",
        "#val <= 15):\n",
        "def Rd_Black(AMOUNT):\n",
        "  black_list = []\n",
        "  \n",
        "  for x in range(AMOUNT):\n",
        "    black_list.append([random.randint(0,360),random.randint(0,100),random.randint(0,15)])\n",
        "  \n",
        "  return black_list\n",
        "\n",
        "#white\n",
        "#sat <= 15\n",
        "def Rd_White(AMOUNT):\n",
        "  white_list = []\n",
        "  \n",
        "  for x in range(AMOUNT):\n",
        "    white_list.append([random.randint(0,360),random.randint(0,15),random.randint(15,255)])\n",
        "  \n",
        "  return white_list\n",
        "\n",
        "#red\n",
        "#hue >= 345 or hue < 20):\n",
        "def Rd_Red(AMOUNT):\n",
        "  red_list = []\n",
        "  \n",
        "  for x in range(AMOUNT):\n",
        "    a = random.randint(0,1)\n",
        "    if(a==0):\n",
        "      red_list.append([random.randint(0,19),random.randint(15,100),random.randint(15,255)])\n",
        "    else:\n",
        "      red_list.append([random.randint(345,360),random.randint(15,100),random.randint(15,255)])\n",
        "  \n",
        "  return red_list\n",
        "\n",
        "#orange\n",
        "#hue >= 20 and hue < 45):\n",
        "def Rd_Orange(AMOUNT):\n",
        "  orange_list = []\n",
        "  \n",
        "  for x in range(AMOUNT):\n",
        "    orange_list.append([random.randint(20,44),random.randint(15,100),random.randint(15,255)])\n",
        "  \n",
        "  return orange_list\n",
        "\n",
        "#yellow\n",
        "#hue >= 45 and hue < 75):\n",
        "def Rd_Yellow(AMOUNT):\n",
        "  yellow_list = []\n",
        "  \n",
        "  for x in range(AMOUNT):\n",
        "    yellow_list.append([random.randint(45,74),random.randint(15,100),random.randint(15,255)])\n",
        "  \n",
        "  return yellow_list\n",
        "\n",
        "#green\n",
        "#hue >= 75 and hue < 130):\n",
        "def Rd_Green(AMOUNT):\n",
        "  green_list = []\n",
        "  \n",
        "  for x in range(AMOUNT):\n",
        "    green_list.append([random.randint(75,129),random.randint(15,100),random.randint(15,255)])\n",
        "  \n",
        "  return green_list\n",
        "\n",
        "#cyan\n",
        "#hue >= 130 and hue < 195):\n",
        "def Rd_Cyan(AMOUNT):\n",
        "  cyan_list = []\n",
        "  \n",
        "  for x in range(AMOUNT):\n",
        "    cyan_list.append([random.randint(130,194),random.randint(15,100),random.randint(15,255)])\n",
        "  \n",
        "  return cyan_list\n",
        "\n",
        "#blue\n",
        "#hue >= 195 and hue < 250):\n",
        "def Rd_Blue(AMOUNT):\n",
        "  blue_list = []\n",
        "  \n",
        "  for x in range(AMOUNT):\n",
        "    blue_list.append([random.randint(195,239),random.randint(15,100),random.randint(15,255)])\n",
        "  \n",
        "  return blue_list\n",
        "\n",
        "#violet\n",
        "#hue >= 250 and hue < 285):\n",
        "def Rd_Violet(AMOUNT):\n",
        "  violet_list = []\n",
        "  \n",
        "  for x in range(AMOUNT):\n",
        "    violet_list.append([random.randint(240,284),random.randint(15,100),random.randint(15,255)])\n",
        "  \n",
        "  return violet_list\n",
        "\n",
        "#magenta\n",
        "#hue >= 285 and hue < 345):\n",
        "def Rd_Magenta(AMOUNT):\n",
        "  magenta_list = []\n",
        "  \n",
        "  for x in range(AMOUNT):\n",
        "    magenta_list.append([random.randint(285,345),random.randint(15,100),random.randint(15,255)])\n",
        "  \n",
        "  return magenta_list\n",
        "\n",
        "def createUBRandomList(AMOUNT):\n",
        "  UB_Random_list = []\n",
        "  for black in Rd_Black(AMOUNT):\n",
        "    UB_Random_list.append(black)\n",
        "  for white in Rd_White(AMOUNT):\n",
        "    UB_Random_list.append(white)\n",
        "  for red in Rd_Red(AMOUNT):\n",
        "    UB_Random_list.append(red)\n",
        "  for orange in Rd_Orange(AMOUNT):\n",
        "    UB_Random_list.append(orange)\n",
        "  for yellow in Rd_Yellow(AMOUNT):\n",
        "    UB_Random_list.append(yellow)\n",
        "  for green in Rd_Green(AMOUNT):\n",
        "    UB_Random_list.append(green)\n",
        "  for cyan in Rd_Cyan(AMOUNT):\n",
        "    UB_Random_list.append(cyan)\n",
        "  for blue in Rd_Blue(AMOUNT):\n",
        "    UB_Random_list.append(blue)\n",
        "  for violet in Rd_Violet(AMOUNT):\n",
        "    UB_Random_list.append(violet)\n",
        "  for magenta in Rd_Magenta(AMOUNT):\n",
        "    UB_Random_list.append(magenta)\n",
        "  return UB_Random_list\n",
        "\n",
        "def Stardardize_HSV(hsv_colors):\n",
        "  hsv_ST_colors = []\n",
        "  for hsv in hsv_colors:\n",
        "    h = hsv[0]\n",
        "    s = hsv[1]\n",
        "    v = hsv[2]\n",
        "    _hsv = [h/360, s/100, (v/255)]\n",
        "    hsv_ST_colors.append(_hsv)\n",
        "  return hsv_ST_colors\n",
        " "
      ],
      "execution_count": 0,
      "outputs": []
    },
    {
      "metadata": {
        "id": "MDoKQs05fGay",
        "colab_type": "code",
        "outputId": "ec953baf-1e9b-4bd4-ae12-010d0e14a9de",
        "colab": {
          "base_uri": "https://localhost:8080/",
          "height": 153
        }
      },
      "cell_type": "code",
      "source": [
        "hsv_colors = createUBRandomList(10000)\n",
        "#print(np.array(hsv_colors))\n",
        "\n",
        "#standardize data:\n",
        "ST_data = Stardardize_HSV(hsv_colors)\n",
        "ST_rgb_data = hsv_to_rgb(ST_data)\n",
        "\n",
        "#print(np.array(ST_rgb_data))\n",
        "color_data_ = colorsHSV_to_COLOR(hsv_colors)\n",
        "clr_data = np.array(hsv_colors)\n",
        "\n",
        "print(color_data_[0], \"color\")\n",
        "#print(hsv_colors[1], \"hsv\")\n",
        "\n",
        "\n",
        "\n",
        "SEED = random.randint(0,100)\n",
        "\n",
        "ST_data_R = random.Random(SEED).sample(ST_data, len(ST_data))\n",
        "ST_rgb_data_R = random.Random(SEED).sample(ST_rgb_data, len(ST_rgb_data))\n",
        "color_data_R = random.Random(SEED).sample(color_data_, len(color_data_))\n",
        "\n",
        "\n",
        "\n",
        "XRGB = np.array(ST_data_R)\n",
        "XHSV = np.array(ST_rgb_data_R)\n",
        "\n",
        "Y = np.array(color_data_R)\n",
        "\n",
        "print(Y)"
      ],
      "execution_count": 70,
      "outputs": [
        {
          "output_type": "stream",
          "text": [
            "[0, 0, 0, 0, 0, 0, 0, 0, 1, 0] color\n",
            "[[1 0 0 ... 0 0 0]\n",
            " [0 0 1 ... 0 0 0]\n",
            " [0 0 1 ... 0 0 0]\n",
            " ...\n",
            " [0 0 0 ... 0 1 0]\n",
            " [0 0 0 ... 0 1 0]\n",
            " [0 1 0 ... 0 0 0]]\n"
          ],
          "name": "stdout"
        }
      ]
    },
    {
      "metadata": {
        "id": "jB0W9AXgGQEn",
        "colab_type": "text"
      },
      "cell_type": "markdown",
      "source": [
        "Train NN with HSV set and color"
      ]
    },
    {
      "metadata": {
        "id": "6kafCcEyGO5S",
        "colab_type": "code",
        "outputId": "f5eca151-b24d-4fba-e3c5-501b66cb6a25",
        "colab": {
          "base_uri": "https://localhost:8080/",
          "height": 374
        }
      },
      "cell_type": "code",
      "source": [
        "\n",
        "\n",
        "from keras.models import Sequential\n",
        "from keras.layers import Dense, Activation\n",
        "modelRGB = Sequential()\n",
        "modelRGB.add(Dense(64, input_shape=(3,), activation=\"tanh\"))\n",
        "modelRGB.add(Dense(64, activation=\"relu\"))\n",
        "modelRGB.add(Dense(10, activation=\"softmax\"))\n",
        "modelRGB.compile(loss=\"categorical_crossentropy\", optimizer=\"Nadam\", metrics=[\"accuracy\"])\n",
        "modelRGB.fit(x=XRGB, y=Y, epochs=5, verbose=1)\n",
        "\n",
        "modelHSV = Sequential()\n",
        "modelHSV.add(Dense(64, input_shape=(3,), activation=\"tanh\"))\n",
        "modelHSV.add(Dense(64, activation=\"relu\"))\n",
        "modelHSV.add(Dense(10, activation=\"softmax\"))\n",
        "modelHSV.compile(loss=\"categorical_crossentropy\", optimizer=\"Nadam\", metrics=[\"accuracy\"])\n",
        "modelHSV.fit(x=XHSV, y=Y, epochs=5, verbose=1)"
      ],
      "execution_count": 71,
      "outputs": [
        {
          "output_type": "stream",
          "text": [
            "Epoch 1/5\n",
            "100000/100000 [==============================] - 11s 114us/step - loss: 0.4149 - acc: 0.8421\n",
            "Epoch 2/5\n",
            "100000/100000 [==============================] - 11s 108us/step - loss: 0.1265 - acc: 0.9326\n",
            "Epoch 3/5\n",
            "100000/100000 [==============================] - 11s 107us/step - loss: 0.0997 - acc: 0.9394\n",
            "Epoch 4/5\n",
            "100000/100000 [==============================] - 11s 106us/step - loss: 0.0872 - acc: 0.9427\n",
            "Epoch 5/5\n",
            "100000/100000 [==============================] - 11s 107us/step - loss: 0.0804 - acc: 0.9450\n",
            "Epoch 1/5\n",
            "100000/100000 [==============================] - 12s 121us/step - loss: 0.2745 - acc: 0.8992\n",
            "Epoch 2/5\n",
            "100000/100000 [==============================] - 11s 111us/step - loss: 0.1036 - acc: 0.9418\n",
            "Epoch 3/5\n",
            "100000/100000 [==============================] - 11s 107us/step - loss: 0.0839 - acc: 0.9464\n",
            "Epoch 4/5\n",
            "100000/100000 [==============================] - 11s 109us/step - loss: 0.0758 - acc: 0.9485\n",
            "Epoch 5/5\n",
            "100000/100000 [==============================] - 11s 113us/step - loss: 0.0713 - acc: 0.9493\n"
          ],
          "name": "stdout"
        },
        {
          "output_type": "execute_result",
          "data": {
            "text/plain": [
              "<keras.callbacks.History at 0x7fc0368fc5f8>"
            ]
          },
          "metadata": {
            "tags": []
          },
          "execution_count": 71
        }
      ]
    },
    {
      "metadata": {
        "id": "qHcdhB68XMFX",
        "colab_type": "code",
        "colab": {
          "base_uri": "https://localhost:8080/",
          "height": 51
        },
        "outputId": "c0a579ec-04cf-45b6-a5db-94c55711ded5"
      },
      "cell_type": "code",
      "source": [
        "print(ST_rgb_data_R[0], color_data_R[0])\n",
        "x = 0\n",
        "num = 0\n",
        "wrong_rgb = []\n",
        "wrong_colors = []\n",
        "\n",
        "for rgb in ST_rgb_data_R:\n",
        "  \n",
        "  if(np.argmax(modelRGB.predict(np.expand_dims(rgb, 0)))) == np.argmax(color_data_R[x]):\n",
        "    num+=1\n",
        "    #print(num)\n",
        "  else:\n",
        "    wrong_rgb.append(rgb)\n",
        "    wrong_colors.append(color_data_R[x])\n",
        "  x+=1\n",
        "\n",
        "acc = num/x \n",
        "print(acc)\n",
        "#np.expand_dims(rgb, 0)"
      ],
      "execution_count": 82,
      "outputs": [
        {
          "output_type": "stream",
          "text": [
            "(0.7098039215686275, 0.09937254901960786, 0.09937254901960786) [1, 0, 0, 0, 0, 0, 0, 0, 0, 0]\n",
            "0.17985\n"
          ],
          "name": "stdout"
        }
      ]
    },
    {
      "metadata": {
        "id": "5YJ6BvrXYtBO",
        "colab_type": "code",
        "colab": {
          "base_uri": "https://localhost:8080/",
          "height": 51
        },
        "outputId": "2d272d90-f710-485f-fa17-d13d7e272685"
      },
      "cell_type": "code",
      "source": [
        "print(wrong_rgb[0])\n",
        "print(wrong_colors[0])"
      ],
      "execution_count": 83,
      "outputs": [
        {
          "output_type": "stream",
          "text": [
            "(0.7098039215686275, 0.09937254901960786, 0.09937254901960786)\n",
            "[1, 0, 0, 0, 0, 0, 0, 0, 0, 0]\n"
          ],
          "name": "stdout"
        }
      ]
    },
    {
      "metadata": {
        "id": "ij6qOiIMZfNy",
        "colab_type": "code",
        "colab": {}
      },
      "cell_type": "code",
      "source": [
        ""
      ],
      "execution_count": 0,
      "outputs": []
    }
  ]
}