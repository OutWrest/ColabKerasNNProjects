{
  "nbformat": 4,
  "nbformat_minor": 0,
  "metadata": {
    "colab": {
      "name": "Practice TF.ipynb",
      "version": "0.3.2",
      "provenance": [],
      "collapsed_sections": [],
      "include_colab_link": true
    },
    "kernelspec": {
      "name": "python3",
      "display_name": "Python 3"
    },
    "accelerator": "GPU"
  },
  "cells": [
    {
      "cell_type": "markdown",
      "metadata": {
        "id": "view-in-github",
        "colab_type": "text"
      },
      "source": [
        "<a href=\"https://colab.research.google.com/github/OutWrest/ColabKerasNNProjects/blob/master/Practice_TF.ipynb\" target=\"_parent\"><img src=\"https://colab.research.google.com/assets/colab-badge.svg\" alt=\"Open In Colab\"/></a>"
      ]
    },
    {
      "metadata": {
        "id": "bJG2JOSFMdB7",
        "colab_type": "text"
      },
      "cell_type": "markdown",
      "source": [
        "Imports TF and checks to see if it can find a GPU, (from https://colab.research.google.com/notebooks/gpu.ipynb#scrollTo=3IEVK-KFxi5Z)"
      ]
    },
    {
      "metadata": {
        "id": "LhXc3IXzLqKs",
        "colab_type": "code",
        "outputId": "f9f3a30f-8175-4bae-d3e2-160dece20807",
        "colab": {
          "base_uri": "https://localhost:8080/",
          "height": 34
        }
      },
      "cell_type": "code",
      "source": [
        "import tensorflow as tf\n",
        "device_name = tf.test.gpu_device_name()\n",
        "if device_name != '/device:GPU:0':\n",
        "  raise SystemError('GPU device not found')\n",
        "print('Found GPU at: {}'.format(device_name))"
      ],
      "execution_count": 155,
      "outputs": [
        {
          "output_type": "stream",
          "text": [
            "Found GPU at: /device:GPU:0\n"
          ],
          "name": "stdout"
        }
      ]
    },
    {
      "metadata": {
        "id": "K7CUZdAIMooC",
        "colab_type": "text"
      },
      "cell_type": "markdown",
      "source": [
        "List of colors that will only be used:  \n",
        "red   \n",
        "orange   \n",
        "yellow  \n",
        "green   \n",
        "cyan  \n",
        "blue  \n",
        "violet   \n",
        "magenta  \n",
        "black  \n",
        "white  \n",
        "  \n",
        "The NN would identify which RGB value correspons with the text color \n",
        "\n",
        "Input array: [R,G,B]  \n",
        "Output array: [R,O,Y,G,C,B,V,M,B,W]\n",
        "  \n",
        "With either 1 or 0 for the output and 1-255 for input which will encoded to 0-1 for simplicity  \n",
        "The sigmoid function will able to give a probability of the output depending on the input\n",
        "  \n"
      ]
    },
    {
      "metadata": {
        "id": "hgwYOXgMWVEr",
        "colab_type": "code",
        "outputId": "4892f877-4c83-4409-d3b7-4acec3c913ad",
        "colab": {
          "base_uri": "https://localhost:8080/",
          "height": 136
        }
      },
      "cell_type": "code",
      "source": [
        "import colorsys\n",
        "import random\n",
        "\n",
        "#Change the amount data that will be created\n",
        "DATA_SET_AMOUNT = 1000000\n",
        "\n",
        "import numpy as np\n",
        "\n",
        "\n",
        "random_set = []\n",
        "for x in range(DATA_SET_AMOUNT):\n",
        "  random_data = [random.randint(0, 255),random.randint(0, 255),random.randint(0, 255)]\n",
        "  random_set.append(random_data)\n",
        "\n",
        "data_set_rgb = np.array(random_set)\n",
        "print(data_set_rgb)\n",
        "\n",
        "hsv_set = []\n",
        "for rgb in data_set_rgb:\n",
        "  #print(rgb)\n",
        "  #print(colorsys.rgb_to_hsv(rgb[0],rgb[1],rgb[2]))\n",
        "  hsv = colorsys.rgb_to_hsv(rgb[0],rgb[1],rgb[2])\n",
        "  #normalize h on 0-360 range\n",
        "  hsv_set.append([round(hsv[0]*360),round(hsv[1]*100),round((hsv[2]*100)/255)])\n",
        "\n",
        "data_set_hsv = np.array(hsv_set)\n",
        "\n",
        "#print(data_set_hsv)"
      ],
      "execution_count": 219,
      "outputs": [
        {
          "output_type": "stream",
          "text": [
            "[[211 157  79]\n",
            " [142  24 207]\n",
            " [132 136 225]\n",
            " ...\n",
            " [210 235  81]\n",
            " [111 253  92]\n",
            " [219 175  23]]\n"
          ],
          "name": "stdout"
        }
      ]
    },
    {
      "metadata": {
        "id": "kaqlTPXQkZJY",
        "colab_type": "text"
      },
      "cell_type": "markdown",
      "source": [
        "Now to create a y list that knows the colors "
      ]
    },
    {
      "metadata": {
        "colab_type": "code",
        "id": "A_ntSJ6QovMj",
        "cellView": "both",
        "outputId": "99ed9f8e-7481-4dc4-d54f-83fe215c1efc",
        "colab": {
          "base_uri": "https://localhost:8080/",
          "height": 136
        }
      },
      "cell_type": "code",
      "source": [
        "#color index:\n",
        "red = 0\n",
        "orange = 1\n",
        "yellow = 2\n",
        "green = 3\n",
        "cyan = 4\n",
        "blue = 5\n",
        "violet = 6\n",
        "magenta = 7\n",
        "black = 8\n",
        "white = 9\n",
        "\n",
        "#a= colorsys.rgb_to_hsv(255,255,200)\n",
        "#print([round(a[0]*360),round(a[1]*100),round((a[2]*100)/255)]) \n",
        "\n",
        "color_set = []\n",
        "for color_hsv in data_set_hsv:\n",
        "  _color = [0,0,0,0,0,0,0,0,0,0]\n",
        "  hue = color_hsv[0]\n",
        "  sat = color_hsv[1]\n",
        "  val = color_hsv[2]\n",
        "  \n",
        "  #black\n",
        "  if(val <= 15):\n",
        "    _color[black] = 1\n",
        "  #white\n",
        "  elif(sat <= 15):\n",
        "    _color[white] = 1\n",
        "    \n",
        "  #red\n",
        "  elif(hue >= 345 or hue < 20):\n",
        "    _color[red] = 1\n",
        "  #orange\n",
        "  elif(hue >= 20 and hue < 45):\n",
        "    _color[orange] = 1\n",
        "  #yellow\n",
        "  elif(hue >= 45 and hue < 75):\n",
        "    _color[yellow] = 1\n",
        "  #green\n",
        "  elif(hue >= 75 and hue < 130):\n",
        "    _color[green] = 1\n",
        "  #cyan\n",
        "  elif(hue >= 130 and hue < 195):\n",
        "    _color[cyan] = 1\n",
        "  #blue\n",
        "  elif(hue >= 195 and hue < 250):\n",
        "    _color[blue] = 1\n",
        "  #violet\n",
        "  elif(hue >= 250 and hue < 285):\n",
        "    _color[violet] = 1\n",
        "  #magenta\n",
        "  elif(hue >= 285 and hue < 345):\n",
        "    _color[magenta] = 1\n",
        "  \n",
        "  color_set.append(_color)\n",
        "\n",
        "data_color_names = np.array(color_set)\n",
        "\n",
        "print(data_color_names)"
      ],
      "execution_count": 220,
      "outputs": [
        {
          "output_type": "stream",
          "text": [
            "[[0 1 0 ... 0 0 0]\n",
            " [0 0 0 ... 0 0 0]\n",
            " [0 0 0 ... 0 0 0]\n",
            " ...\n",
            " [0 0 1 ... 0 0 0]\n",
            " [0 0 0 ... 0 0 0]\n",
            " [0 0 1 ... 0 0 0]]\n"
          ],
          "name": "stdout"
        }
      ]
    },
    {
      "metadata": {
        "id": "BmJPCna2CquZ",
        "colab_type": "text"
      },
      "cell_type": "markdown",
      "source": [
        "Change x-list to 0-1 for simplicity"
      ]
    },
    {
      "metadata": {
        "id": "xyCL2OpMCmO4",
        "colab_type": "code",
        "colab": {
          "base_uri": "https://localhost:8080/",
          "height": 51
        },
        "outputId": "5db25354-f518-4574-9d05-fe4a1cdc8596"
      },
      "cell_type": "code",
      "source": [
        "list_ = []\n",
        "for x in data_set_rgb:\n",
        "  list__ = []\n",
        "  for y in x:\n",
        "    list__.append(y/255)\n",
        "  list_.append(list__)\n",
        "list_x = np.array(list_)\n",
        "print(len(list_x))\n",
        "print(len(data_color_names))"
      ],
      "execution_count": 221,
      "outputs": [
        {
          "output_type": "stream",
          "text": [
            "1000000\n",
            "1000000\n"
          ],
          "name": "stdout"
        }
      ]
    },
    {
      "metadata": {
        "id": "QDng0uq799hx",
        "colab_type": "text"
      },
      "cell_type": "markdown",
      "source": [
        "Actual NN"
      ]
    },
    {
      "metadata": {
        "id": "o60YT7df-C23",
        "colab_type": "code",
        "colab": {
          "base_uri": "https://localhost:8080/",
          "height": 204
        },
        "outputId": "d7e8f5c3-c86f-4905-e225-163d52159186"
      },
      "cell_type": "code",
      "source": [
        "from keras.models import Sequential\n",
        "from keras.layers import Dense, Activation\n",
        "model = Sequential()\n",
        "model.add(Dense(32, input_shape=(3,)))\n",
        "model.add(Dense(32))\n",
        "model.add(Dense(10, activation=\"softmax\"))\n",
        "model.compile(loss=\"categorical_crossentropy\", optimizer=\"adam\", metrics=[\"accuracy\"])\n",
        "model.fit(x=list_x, y=data_color_names, epochs=5, verbose=1)"
      ],
      "execution_count": 222,
      "outputs": [
        {
          "output_type": "stream",
          "text": [
            "Epoch 1/5\n",
            "1000000/1000000 [==============================] - 98s 98us/step - loss: 0.0912 - acc: 0.9754\n",
            "Epoch 2/5\n",
            "1000000/1000000 [==============================] - 96s 96us/step - loss: 0.0426 - acc: 0.9849\n",
            "Epoch 3/5\n",
            "1000000/1000000 [==============================] - 96s 96us/step - loss: 0.0390 - acc: 0.9857\n",
            "Epoch 4/5\n",
            "1000000/1000000 [==============================] - 97s 97us/step - loss: 0.0373 - acc: 0.9864\n",
            "Epoch 5/5\n",
            "1000000/1000000 [==============================] - 96s 96us/step - loss: 0.0367 - acc: 0.9866\n"
          ],
          "name": "stdout"
        },
        {
          "output_type": "execute_result",
          "data": {
            "text/plain": [
              "<keras.callbacks.History at 0x7f90942cffd0>"
            ]
          },
          "metadata": {
            "tags": []
          },
          "execution_count": 222
        }
      ]
    },
    {
      "metadata": {
        "id": "9wbcd1hFJEs3",
        "colab_type": "code",
        "colab": {
          "base_uri": "https://localhost:8080/",
          "height": 140
        },
        "outputId": "116408a9-9292-4708-8b94-38f4a788a305"
      },
      "cell_type": "code",
      "source": [
        "def decodeModel(index):\n",
        "  red = 0\n",
        "  orange = 1\n",
        "  yellow = 2\n",
        "  green = 3\n",
        "  cyan = 4\n",
        "  blue = 5\n",
        "  violet = 6\n",
        "  magenta = 7\n",
        "  black = 8\n",
        "  white = 9\n",
        "  if(index == red):\n",
        "    return \"red\"\n",
        "  if(index == orange):\n",
        "    return \"orange\"\n",
        "  if(index == yellow):\n",
        "    return \"yellow\"\n",
        "  if(index == green):\n",
        "    return \"green\"\n",
        "  if(index == cyan):\n",
        "    return \"cyan\"\n",
        "  if(index == blue):\n",
        "    return \"blue\"\n",
        "  if(index == violet):\n",
        "    return \"violet\"\n",
        "  if(index == magenta):\n",
        "    return \"magenta\"\n",
        "  if(index == black):\n",
        "    return \"black\"\n",
        "  if(index == white):\n",
        "    return \"white\"\n",
        "  return \"idk\"\n",
        "def encodeModel(array):\n",
        "  new_array = []\n",
        "  for x in array:\n",
        "    new_array.append(x/255)\n",
        "  return new_array\n",
        "\n",
        "import matplotlib.pyplot as plt\n",
        "\n",
        "def plotColor(array):\n",
        "  fig = plt.figure(figsize=(1, 1))\n",
        "  ax = fig.add_subplot(1,1,1)\n",
        "  ax.set_facecolor((array[0],array[1],array[2]))\n",
        "\n",
        "#creating test list\n",
        "random_set_test = []\n",
        "for x in range(100):\n",
        "  random_data = [random.randint(0, 255),random.randint(0, 255),random.randint(0, 255)]\n",
        "  random_set_test.append(random_data)\n",
        "\n",
        "data_set_rgb_test = np.array(random_set_test)\n",
        "\n",
        "\n",
        "\n",
        "\n",
        "#CHANGE THESE FOR YOUR OWN COLOR\n",
        "R = random.randint(0,255)\n",
        "G = random.randint(0,255)\n",
        "B = random.randint(0,255)\n",
        "#NOTHING ELSE\n",
        "print(\"your color is:\")\n",
        "Guess = np.array(encodeModel([R,G,B]))\n",
        "plotColor(encodeModel([R,G,B]))\n",
        "print(\"my guess is: \" + decodeModel(np.argmax((model.predict(np.expand_dims(Guess, 0))))))"
      ],
      "execution_count": 242,
      "outputs": [
        {
          "output_type": "stream",
          "text": [
            "your color is:\n",
            "my guess is: orange\n"
          ],
          "name": "stdout"
        },
        {
          "output_type": "display_data",
          "data": {
            "image/png": "[encoded data removed]",
            "text/plain": [
              "<Figure size 72x72 with 1 Axes>"
            ]
          },
          "metadata": {
            "tags": []
          }
        }
      ]
    },
    {
      "metadata": {
        "id": "9TxLhjdgKGvC",
        "colab_type": "code",
        "colab": {}
      },
      "cell_type": "code",
      "source": [
        "\n"
      ],
      "execution_count": 0,
      "outputs": []
    }
  ]
}